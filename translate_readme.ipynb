{
 "cells": [
  {
   "cell_type": "code",
   "execution_count": 1,
   "id": "75f1cb08",
   "metadata": {},
   "outputs": [],
   "source": [
    "#/usr/bin/env python3\n",
    "\n",
    "# pip install google-cloud-translate==2.0.1\n",
    "import six\n",
    "from google.cloud import translate_v2\n",
    "import sys\n",
    "# from ruamel.yaml import YAML\n",
    "import ruamel.yaml"
   ]
  },
  {
   "cell_type": "code",
   "execution_count": 4,
   "id": "8e02e254",
   "metadata": {},
   "outputs": [],
   "source": [
    "# requires a google cloud account, service account, credentials, permission to use project in translator\n",
    "def translate_text_with_model(target, text, model=\"nmt\"):\n",
    "    translate_client = translate_v2.Client()\n",
    "    if isinstance(text, six.binary_type):\n",
    "        text = text.decode(\"utf-8\")\n",
    "    result = translate_client.translate(text, target_language=target, model=model)\n",
    "    return result[\"translatedText\"]\n",
    "\n",
    "def trans_langs(text):\n",
    "    es = []\n",
    "    fr = []\n",
    "    ar = []\n",
    "    zh = []\n",
    "    ru = []\n",
    "    es.append(translate_text_with_model(target='es', text=text))\n",
    "    fr.append(translate_text_with_model(target='fr', text=text))\n",
    "    ar.append(translate_text_with_model(target='ar', text=text))\n",
    "    zh.append(translate_text_with_model(target='zh', text=text))\n",
    "    ru.append(translate_text_with_model(target='ru', text=text))\n",
    "    print(text)\n",
    "    print(es[-1])\n",
    "    print(fr[-1])\n",
    "    print(ar[-1])\n",
    "    print(zh[-1])\n",
    "    print(ru[-1])"
   ]
  },
  {
   "cell_type": "code",
   "execution_count": 5,
   "id": "3608d164",
   "metadata": {},
   "outputs": [
    {
     "name": "stdout",
     "output_type": "stream",
     "text": [
      "hi\n",
      "Hola\n",
      "salut\n",
      "أهلا\n",
      "你好\n",
      "Привет\n"
     ]
    }
   ],
   "source": [
    "trans_langs(\"hi\")"
   ]
  },
  {
   "cell_type": "code",
   "execution_count": null,
   "id": "21fa8b7f",
   "metadata": {},
   "outputs": [],
   "source": []
  }
 ],
 "metadata": {
  "kernelspec": {
   "display_name": "Python 3",
   "language": "python",
   "name": "python3"
  },
  "language_info": {
   "codemirror_mode": {
    "name": "ipython",
    "version": 3
   },
   "file_extension": ".py",
   "mimetype": "text/x-python",
   "name": "python",
   "nbconvert_exporter": "python",
   "pygments_lexer": "ipython3",
   "version": "3.9.6"
  }
 },
 "nbformat": 4,
 "nbformat_minor": 5
}
